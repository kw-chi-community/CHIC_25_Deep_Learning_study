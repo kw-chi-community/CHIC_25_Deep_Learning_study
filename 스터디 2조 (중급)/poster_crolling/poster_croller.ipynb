{
 "cells": [
  {
   "cell_type": "code",
   "execution_count": null,
   "id": "1580ab18",
   "metadata": {},
   "outputs": [
    {
     "name": "stdout",
     "output_type": "stream",
     "text": [
      "Requirement already satisfied: requests in c:\\users\\user\\appdata\\local\\programs\\python\\python39\\lib\\site-packages (2.32.3)\n",
      "Collecting beautifulsoup4\n",
      "  Downloading beautifulsoup4-4.13.4-py3-none-any.whl.metadata (3.8 kB)\n",
      "Requirement already satisfied: charset-normalizer<4,>=2 in c:\\users\\user\\appdata\\local\\programs\\python\\python39\\lib\\site-packages (from requests) (3.4.2)\n",
      "Requirement already satisfied: idna<4,>=2.5 in c:\\users\\user\\appdata\\local\\programs\\python\\python39\\lib\\site-packages (from requests) (3.10)\n",
      "Requirement already satisfied: urllib3<3,>=1.21.1 in c:\\users\\user\\appdata\\local\\programs\\python\\python39\\lib\\site-packages (from requests) (2.4.0)\n",
      "Requirement already satisfied: certifi>=2017.4.17 in c:\\users\\user\\appdata\\local\\programs\\python\\python39\\lib\\site-packages (from requests) (2025.4.26)\n",
      "Collecting soupsieve>1.2 (from beautifulsoup4)\n",
      "  Downloading soupsieve-2.7-py3-none-any.whl.metadata (4.6 kB)\n",
      "Requirement already satisfied: typing-extensions>=4.0.0 in c:\\users\\user\\appdata\\roaming\\python\\python39\\site-packages (from beautifulsoup4) (4.13.2)\n",
      "Downloading beautifulsoup4-4.13.4-py3-none-any.whl (187 kB)\n",
      "Downloading soupsieve-2.7-py3-none-any.whl (36 kB)\n",
      "Installing collected packages: soupsieve, beautifulsoup4\n",
      "\n",
      "   -------------------- ------------------- 1/2 [beautifulsoup4]\n",
      "   -------------------- ------------------- 1/2 [beautifulsoup4]\n",
      "   -------------------- ------------------- 1/2 [beautifulsoup4]\n",
      "   -------------------- ------------------- 1/2 [beautifulsoup4]\n",
      "   ---------------------------------------- 2/2 [beautifulsoup4]\n",
      "\n",
      "Successfully installed beautifulsoup4-4.13.4 soupsieve-2.7\n",
      "Note: you may need to restart the kernel to use updated packages.\n"
     ]
    }
   ],
   "source": [
    "# pip install requests beautifulsoup4"
   ]
  },
  {
   "cell_type": "code",
   "execution_count": null,
   "id": "5628d1c3",
   "metadata": {},
   "outputs": [
    {
     "name": "stdout",
     "output_type": "stream",
     "text": [
      "📥 공지사항 이미지 수집 시작\n",
      "🎉 완료\n"
     ]
    }
   ],
   "source": [
    "import os\n",
    "import requests\n",
    "from bs4 import BeautifulSoup\n",
    "from urllib.parse import urljoin\n",
    "\n",
    "BASE_URL = \"https://www.kw.ac.kr\"\n",
    "NOTICE_URL = f\"{BASE_URL}/ko/life/notice.jsp\"\n",
    "\n",
    "HEADERS = {\n",
    "    \"User-Agent\": \"Mozilla/5.0\"\n",
    "}\n",
    "\n",
    "def get_notice_pages():\n",
    "    \"\"\"공지사항 리스트 페이지 여러 개 구성\"\"\"\n",
    "    return [f\"{NOTICE_URL}?pageNum={i}\" for i in range(1, 4)]  # 페이지 수 조절 가능\n",
    "\n",
    "def extract_post_links(page_url):\n",
    "    \"\"\"각 리스트 페이지에서 공지 상세 페이지 링크 추출\"\"\"\n",
    "    print(f\"🌐 리스트 페이지 확인 중: {page_url}\")\n",
    "    res = requests.get(page_url, headers=HEADERS)\n",
    "    soup = BeautifulSoup(res.text, \"html.parser\")\n",
    "    links = []\n",
    "\n",
    "    for a in soup.select(\"ul.board_list li a\"):\n",
    "        href = a.get(\"href\")\n",
    "        if href and \"DUID=\" in href:\n",
    "            full_url = urljoin(BASE_URL, href)\n",
    "            links.append(full_url)\n",
    "    return links\n",
    "\n",
    "def extract_images_from_post(post_url):\n",
    "    \"\"\"공지 상세 페이지에서 이미지 추출\"\"\"\n",
    "    res = requests.get(post_url, headers=HEADERS)\n",
    "    soup = BeautifulSoup(res.text, \"html.parser\")\n",
    "    \n",
    "    print(f\"🔍 게시글 방문: {post_url}\")\n",
    "\n",
    "    img_tags = soup.select(\"div.bbs_view img\")\n",
    "    if not img_tags:\n",
    "        print(\"⚠️ 이미지 없음\")\n",
    "    return [urljoin(BASE_URL, img[\"src\"]) for img in img_tags if img.get(\"src\")]\n",
    "\n",
    "def download_image(url, save_dir=\"downloaded_posters\"):\n",
    "    os.makedirs(save_dir, exist_ok=True)\n",
    "    filename = url.split(\"/\")[-1].split(\"?\")[0]\n",
    "    path = os.path.join(save_dir, filename)\n",
    "    res = requests.get(url, stream=True)\n",
    "    if res.status_code == 200:\n",
    "        with open(path, \"wb\") as f:\n",
    "            for chunk in res.iter_content(1024):\n",
    "                f.write(chunk)\n",
    "        print(f\"✅ 다운로드 완료: {filename}\")\n",
    "    else:\n",
    "        print(f\"❌ 다운로드 실패: {filename}\")\n",
    "\n",
    "def main():\n",
    "    print(\"📥 공지사항 이미지 수집 시작\")\n",
    "    for page_url in get_notice_pages():\n",
    "        post_links = extract_post_links(page_url)\n",
    "        for post_url in post_links:\n",
    "            img_urls = extract_images_from_post(post_url)\n",
    "            for img_url in img_urls:\n",
    "                download_image(img_url)\n",
    "    print(\"🎉 완료\")\n",
    "\n",
    "if __name__ == \"__main__\":\n",
    "    main()\n"
   ]
  },
  {
   "cell_type": "code",
   "execution_count": null,
   "id": "449a973c",
   "metadata": {},
   "outputs": [],
   "source": []
  }
 ],
 "metadata": {
  "kernelspec": {
   "display_name": "Python 3",
   "language": "python",
   "name": "python3"
  },
  "language_info": {
   "codemirror_mode": {
    "name": "ipython",
    "version": 3
   },
   "file_extension": ".py",
   "mimetype": "text/x-python",
   "name": "python",
   "nbconvert_exporter": "python",
   "pygments_lexer": "ipython3",
   "version": "3.9.1"
  }
 },
 "nbformat": 4,
 "nbformat_minor": 5
}
